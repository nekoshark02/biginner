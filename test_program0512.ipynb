{
  "nbformat": 4,
  "nbformat_minor": 0,
  "metadata": {
    "colab": {
      "name": "test_program0512.ipynb",
      "provenance": [],
      "authorship_tag": "ABX9TyPQvBB/6JwOXR8dtcBzwIhG",
      "include_colab_link": true
    },
    "kernelspec": {
      "name": "python3",
      "display_name": "Python 3"
    },
    "language_info": {
      "name": "python"
    }
  },
  "cells": [
    {
      "cell_type": "markdown",
      "metadata": {
        "id": "view-in-github",
        "colab_type": "text"
      },
      "source": [
        "<a href=\"https://colab.research.google.com/github/nekoshark02/biginner/blob/main/test_program0512.ipynb\" target=\"_parent\"><img src=\"https://colab.research.google.com/assets/colab-badge.svg\" alt=\"Open In Colab\"/></a>"
      ]
    },
    {
      "cell_type": "code",
      "execution_count": 1,
      "metadata": {
        "colab": {
          "base_uri": "https://localhost:8080/"
        },
        "id": "lsBM3F95cu86",
        "outputId": "260d1709-fec5-4393-ce3d-fd3033890b4e"
      },
      "outputs": [
        {
          "output_type": "stream",
          "name": "stdout",
          "text": [
            "2\n"
          ]
        }
      ],
      "source": [
        "a = 1\n",
        "b = 1\n",
        "print(a+b)"
      ]
    },
    {
      "cell_type": "code",
      "source": [
        "print(\"Hello world!\")"
      ],
      "metadata": {
        "colab": {
          "base_uri": "https://localhost:8080/"
        },
        "id": "yFqRtWT4gAar",
        "outputId": "edb27120-3e97-4322-fc28-3df1d3567aee"
      },
      "execution_count": 2,
      "outputs": [
        {
          "output_type": "stream",
          "name": "stdout",
          "text": [
            "Hello world!\n"
          ]
        }
      ]
    },
    {
      "cell_type": "code",
      "source": [
        "# -*- coding: utf-8 -*-\n",
        "import matplotlib\n",
        "import matplotlib.pyplot as plt\n",
        "\n",
        "fig = plt.figure()\n",
        "ax = fig.add_subplot(111)\n",
        "# 始点(0.2,0.2)で幅が0.2, 高さが0.4の長方形を描画\n",
        "rect = plt.Rectangle((0.2,0.2),0.2,0.4,fc=\"#770000\")\n",
        "ax.add_patch(rect)\n",
        "plt.show()"
      ],
      "metadata": {
        "colab": {
          "base_uri": "https://localhost:8080/",
          "height": 269
        },
        "id": "sgMh6h6-hOBl",
        "outputId": "a76782f7-7af1-49e4-e9b9-98f2174fc3ab"
      },
      "execution_count": 3,
      "outputs": [
        {
          "output_type": "display_data",
          "data": {
            "text/plain": [
              "<Figure size 432x288 with 1 Axes>"
            ],
            "image/png": "[encoded data removed]"
          },
          "metadata": {
            "needs_background": "light"
          }
        }
      ]
    },
    {
      "cell_type": "code",
      "source": [
        "import numpy as np\n",
        "\n",
        "\n",
        "# 行列Aの定義\n",
        "matA = np.array([[2.0, 5.0, 8.0],\n",
        "                 [1.0, 3.0, 6.0],\n",
        "                 [7.0, 9.0, 4.0]])\n",
        "\n",
        "# 行列Aの固有値(eigval)と固有ベクトル(eigvec)の計算\n",
        "eigval, eigvec = np.linalg.eig(matA)\n",
        "\n",
        "# 計算結果の表示\n",
        "print(\"固有値 =\")\n",
        "print(eigval)\n",
        "print()\n",
        "print(\"固有ベクトル =\")\n",
        "print(eigvec)"
      ],
      "metadata": {
        "colab": {
          "base_uri": "https://localhost:8080/"
        },
        "id": "lFJ9b5Pohs8E",
        "outputId": "7f2f8f09-acdb-42fe-c80d-0994596ad500"
      },
      "execution_count": 4,
      "outputs": [
        {
          "output_type": "stream",
          "name": "stdout",
          "text": [
            "固有値 =\n",
            "[14.9841486  -0.11368296 -5.87046564]\n",
            "\n",
            "固有ベクトル =\n",
            "[[-0.58749204 -0.71750212 -0.4756348 ]\n",
            " [-0.4009467   0.65993343 -0.45542063]\n",
            " [-0.7029188  -0.22288689  0.75257131]]\n"
          ]
        }
      ]
    },
    {
      "cell_type": "code",
      "source": [
        "x = 1+1\n",
        "print(x)"
      ],
      "metadata": {
        "colab": {
          "base_uri": "https://localhost:8080/"
        },
        "id": "09l5ecALiYwU",
        "outputId": "8accd232-a5f9-4c25-938f-854aab28865a"
      },
      "execution_count": 5,
      "outputs": [
        {
          "output_type": "stream",
          "name": "stdout",
          "text": [
            "2\n"
          ]
        }
      ]
    }
  ]
}